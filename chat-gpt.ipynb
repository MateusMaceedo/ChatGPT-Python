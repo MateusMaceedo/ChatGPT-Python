{
 "cells": [
  {
   "cell_type": "code",
   "execution_count": 6,
   "metadata": {},
   "outputs": [
    {
     "name": "stdout",
     "output_type": "stream",
     "text": [
      "[*********************100%***********************]  1 of 1 completed\n"
     ]
    },
    {
     "data": {
      "text/html": [
       "<div>\n",
       "<style scoped>\n",
       "    .dataframe tbody tr th:only-of-type {\n",
       "        vertical-align: middle;\n",
       "    }\n",
       "\n",
       "    .dataframe tbody tr th {\n",
       "        vertical-align: top;\n",
       "    }\n",
       "\n",
       "    .dataframe thead th {\n",
       "        text-align: right;\n",
       "    }\n",
       "</style>\n",
       "<table border=\"1\" class=\"dataframe\">\n",
       "  <thead>\n",
       "    <tr style=\"text-align: right;\">\n",
       "      <th></th>\n",
       "      <th>Open</th>\n",
       "      <th>High</th>\n",
       "      <th>Low</th>\n",
       "      <th>Close</th>\n",
       "      <th>Adj Close</th>\n",
       "      <th>Volume</th>\n",
       "    </tr>\n",
       "    <tr>\n",
       "      <th>Date</th>\n",
       "      <th></th>\n",
       "      <th></th>\n",
       "      <th></th>\n",
       "      <th></th>\n",
       "      <th></th>\n",
       "      <th></th>\n",
       "    </tr>\n",
       "  </thead>\n",
       "  <tbody>\n",
       "    <tr>\n",
       "      <th>2017-01-03 00:00:00-05:00</th>\n",
       "      <td>28.950001</td>\n",
       "      <td>29.082500</td>\n",
       "      <td>28.690001</td>\n",
       "      <td>29.037500</td>\n",
       "      <td>27.174753</td>\n",
       "      <td>115127600</td>\n",
       "    </tr>\n",
       "    <tr>\n",
       "      <th>2017-01-04 00:00:00-05:00</th>\n",
       "      <td>28.962500</td>\n",
       "      <td>29.127501</td>\n",
       "      <td>28.937500</td>\n",
       "      <td>29.004999</td>\n",
       "      <td>27.144337</td>\n",
       "      <td>84472400</td>\n",
       "    </tr>\n",
       "    <tr>\n",
       "      <th>2017-01-05 00:00:00-05:00</th>\n",
       "      <td>28.980000</td>\n",
       "      <td>29.215000</td>\n",
       "      <td>28.952499</td>\n",
       "      <td>29.152500</td>\n",
       "      <td>27.282377</td>\n",
       "      <td>88774400</td>\n",
       "    </tr>\n",
       "    <tr>\n",
       "      <th>2017-01-06 00:00:00-05:00</th>\n",
       "      <td>29.195000</td>\n",
       "      <td>29.540001</td>\n",
       "      <td>29.117500</td>\n",
       "      <td>29.477501</td>\n",
       "      <td>27.586531</td>\n",
       "      <td>127007600</td>\n",
       "    </tr>\n",
       "    <tr>\n",
       "      <th>2017-01-09 00:00:00-05:00</th>\n",
       "      <td>29.487499</td>\n",
       "      <td>29.857500</td>\n",
       "      <td>29.485001</td>\n",
       "      <td>29.747499</td>\n",
       "      <td>27.839207</td>\n",
       "      <td>134247600</td>\n",
       "    </tr>\n",
       "  </tbody>\n",
       "</table>\n",
       "</div>"
      ],
      "text/plain": [
       "                                Open       High        Low      Close  \\\n",
       "Date                                                                    \n",
       "2017-01-03 00:00:00-05:00  28.950001  29.082500  28.690001  29.037500   \n",
       "2017-01-04 00:00:00-05:00  28.962500  29.127501  28.937500  29.004999   \n",
       "2017-01-05 00:00:00-05:00  28.980000  29.215000  28.952499  29.152500   \n",
       "2017-01-06 00:00:00-05:00  29.195000  29.540001  29.117500  29.477501   \n",
       "2017-01-09 00:00:00-05:00  29.487499  29.857500  29.485001  29.747499   \n",
       "\n",
       "                           Adj Close     Volume  \n",
       "Date                                             \n",
       "2017-01-03 00:00:00-05:00  27.174753  115127600  \n",
       "2017-01-04 00:00:00-05:00  27.144337   84472400  \n",
       "2017-01-05 00:00:00-05:00  27.282377   88774400  \n",
       "2017-01-06 00:00:00-05:00  27.586531  127007600  \n",
       "2017-01-09 00:00:00-05:00  27.839207  134247600  "
      ]
     },
     "execution_count": 6,
     "metadata": {},
     "output_type": "execute_result"
    }
   ],
   "source": [
    "import pandas as pd\n",
    "from pandas_datareader import data as pdr\n",
    "import yfinance as yf\n",
    "\n",
    "yf.pdr_override()\n",
    "\n",
    "# Obtem os dados de cotação da Apple nos últimos 5 anos\n",
    "stock_data = pdr.get_data_yahoo(\"AAPL\", start=\"2017-01-01\")\n",
    "\n",
    "# Exibe as primeiras linhas do dataframe\n",
    "stock_data.head()"
   ]
  },
  {
   "cell_type": "code",
   "execution_count": 9,
   "metadata": {},
   "outputs": [
    {
     "name": "stdout",
     "output_type": "stream",
     "text": [
      "[ 29.03750038  29.00499916  29.15250015 ... 141.86000061 143.96000671\n",
      " 145.92999268]\n"
     ]
    }
   ],
   "source": [
    "from sklearn.linear_model import LinearRegression\n",
    "\n",
    "# Seleciona as colunas do dataframe que serão utilizadas como features (variaveis independentes)\n",
    "X = stock_data[[\"Open\", \"High\", \"Low\", \"Close\", \"Volume\"]]\n",
    "\n",
    "# Seleciona a coluna que sera utilizada como target (variavel dependente)\n",
    "y = stock_data[\"Close\"]\n",
    "\n",
    "# Cria o modelo de regressão linear\n",
    "model = LinearRegression()\n",
    "\n",
    "# Treina o modelo com os dados de treino\n",
    "model.fit(X, y)\n",
    "\n",
    "# Faz a previsão de preço para os proximos dias\n",
    "predictions = model.predict(X)\n",
    "\n",
    "# Exibe as previsões\n",
    "print(predictions)\n",
    "\n"
   ]
  }
 ],
 "metadata": {
  "kernelspec": {
   "display_name": "Python 3",
   "language": "python",
   "name": "python3"
  },
  "language_info": {
   "codemirror_mode": {
    "name": "ipython",
    "version": 3
   },
   "file_extension": ".py",
   "mimetype": "text/x-python",
   "name": "python",
   "nbconvert_exporter": "python",
   "pygments_lexer": "ipython3",
   "version": "3.10.6"
  },
  "orig_nbformat": 4,
  "vscode": {
   "interpreter": {
    "hash": "916dbcbb3f70747c44a77c7bcd40155683ae19c65e1c03b4aa3499c5328201f1"
   }
  }
 },
 "nbformat": 4,
 "nbformat_minor": 2
}
